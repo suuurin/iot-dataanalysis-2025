{
 "cells": [
  {
   "cell_type": "markdown",
   "metadata": {},
   "source": [
    "### 딥러닝\n",
    "\n",
    "#### 심층신경망"
   ]
  },
  {
   "cell_type": "code",
   "execution_count": 21,
   "metadata": {},
   "outputs": [],
   "source": [
    "# 모듈 로드\n",
    "import tensorflow as tf\n",
    "from tensorflow import keras\n",
    "import numpy as np"
   ]
  },
  {
   "cell_type": "code",
   "execution_count": 22,
   "metadata": {},
   "outputs": [],
   "source": [
    "(train_input, train_target), (test_input, test_target) = keras.datasets.fashion_mnist.load_data()"
   ]
  },
  {
   "cell_type": "markdown",
   "metadata": {},
   "source": [
    "- 이미 이전창에서 다운로드 했기 때문에 다시 다운로드 하지 않음"
   ]
  },
  {
   "cell_type": "code",
   "execution_count": 23,
   "metadata": {},
   "outputs": [],
   "source": [
    "# 훈련세트, 검증세트 분리\n",
    "from sklearn.model_selection import train_test_split\n",
    "from sklearn.preprocessing import StandardScaler"
   ]
  },
  {
   "cell_type": "code",
   "execution_count": 24,
   "metadata": {},
   "outputs": [],
   "source": [
    "train_input = train_input.reshape(-1, 28*28)\n",
    "test_input = test_input.reshape(-1, 28*28)"
   ]
  },
  {
   "cell_type": "code",
   "execution_count": 25,
   "metadata": {},
   "outputs": [],
   "source": [
    "# 스케일링\n",
    "scaler = StandardScaler()\n",
    "train_scaled = scaler.fit_transform(train_input.astype(np.float64))\n",
    "test_scaled = scaler.transform(test_input.astype(np.float64))"
   ]
  },
  {
   "cell_type": "code",
   "execution_count": 26,
   "metadata": {},
   "outputs": [],
   "source": [
    "# 훈련세트,  검증세트 분리\n",
    "train_scaled, val_scaled, train_target, val_target = train_test_split(\n",
    "    train_scaled, train_target, test_size=0.2, random_state=42\n",
    ")"
   ]
  },
  {
   "cell_type": "code",
   "execution_count": 27,
   "metadata": {},
   "outputs": [
    {
     "name": "stdout",
     "output_type": "stream",
     "text": [
      "(48000, 784) (10000, 784)\n",
      "(48000,) (10000,)\n"
     ]
    }
   ],
   "source": [
    "print(train_scaled.shape, test_scaled.shape)\n",
    "print(train_target.shape, test_target.shape)"
   ]
  },
  {
   "cell_type": "markdown",
   "metadata": {},
   "source": [
    "#### 심층신경망 만들기"
   ]
  },
  {
   "cell_type": "code",
   "execution_count": 30,
   "metadata": {},
   "outputs": [],
   "source": [
    "# 밀집층 생성\n",
    "dense1 = keras.layers.Dense(100, activation='sigmoid', input_shape=(784,))\n",
    "dense2 = keras.layers.Dense(10, activation='softmax')"
   ]
  },
  {
   "cell_type": "code",
   "execution_count": 31,
   "metadata": {},
   "outputs": [],
   "source": [
    "# 신경망 모델 생성\n",
    "model = keras.Sequential([dense1, dense2])"
   ]
  },
  {
   "cell_type": "code",
   "execution_count": 33,
   "metadata": {},
   "outputs": [
    {
     "name": "stdout",
     "output_type": "stream",
     "text": [
      "Model: \"sequential\"\n",
      "_________________________________________________________________\n",
      " Layer (type)                Output Shape              Param #   \n",
      "=================================================================\n",
      " dense_2 (Dense)             (None, 100)               78500     \n",
      "                                                                 \n",
      " dense_3 (Dense)             (None, 10)                1010      \n",
      "                                                                 \n",
      "=================================================================\n",
      "Total params: 79510 (310.59 KB)\n",
      "Trainable params: 79510 (310.59 KB)\n",
      "Non-trainable params: 0 (0.00 Byte)\n",
      "_________________________________________________________________\n"
     ]
    }
   ],
   "source": [
    "# 모델 요약\n",
    "model.summary()"
   ]
  },
  {
   "cell_type": "markdown",
   "metadata": {},
   "source": [
    "#### 심층신경망 만들기2"
   ]
  },
  {
   "cell_type": "code",
   "execution_count": 38,
   "metadata": {},
   "outputs": [],
   "source": [
    "model = keras.Sequential([\n",
    "    keras.layers.Dense(100, activation='sigmoid', input_shape=(784,), name='hidden'),\n",
    "    keras.layers.Dense(10, activation='softmax', name='output')\n",
    "], name='Fashion_MNIST_Model')"
   ]
  },
  {
   "cell_type": "code",
   "execution_count": 39,
   "metadata": {},
   "outputs": [
    {
     "name": "stdout",
     "output_type": "stream",
     "text": [
      "Model: \"Fashion_MNIST_Model\"\n",
      "_________________________________________________________________\n",
      " Layer (type)                Output Shape              Param #   \n",
      "=================================================================\n",
      " hidden (Dense)              (None, 100)               78500     \n",
      "                                                                 \n",
      " output (Dense)              (None, 10)                1010      \n",
      "                                                                 \n",
      "=================================================================\n",
      "Total params: 79510 (310.59 KB)\n",
      "Trainable params: 79510 (310.59 KB)\n",
      "Non-trainable params: 0 (0.00 Byte)\n",
      "_________________________________________________________________\n"
     ]
    }
   ],
   "source": [
    "model.summary()"
   ]
  },
  {
   "cell_type": "code",
   "execution_count": null,
   "metadata": {},
   "outputs": [],
   "source": [
    "# 모델 훈련전 설정\n",
    "model.compile(loss='sparse_categorical_crossentropy', metrics='accuracy')"
   ]
  },
  {
   "cell_type": "code",
   "execution_count": 42,
   "metadata": {},
   "outputs": [
    {
     "name": "stdout",
     "output_type": "stream",
     "text": [
      "Epoch 1/10\n",
      "1500/1500 [==============================] - 1s 870us/step - loss: 0.2278 - accuracy: 0.9205\n",
      "Epoch 2/10\n",
      "1500/1500 [==============================] - 1s 922us/step - loss: 0.2137 - accuracy: 0.9251\n",
      "Epoch 3/10\n",
      "1500/1500 [==============================] - 1s 887us/step - loss: 0.2022 - accuracy: 0.9284\n",
      "Epoch 4/10\n",
      "1500/1500 [==============================] - 1s 869us/step - loss: 0.1914 - accuracy: 0.9329\n",
      "Epoch 5/10\n",
      "1500/1500 [==============================] - 1s 897us/step - loss: 0.1820 - accuracy: 0.9369\n",
      "Epoch 6/10\n",
      "1500/1500 [==============================] - 1s 898us/step - loss: 0.1717 - accuracy: 0.9414\n",
      "Epoch 7/10\n",
      "1500/1500 [==============================] - 1s 908us/step - loss: 0.1643 - accuracy: 0.9434\n",
      "Epoch 8/10\n",
      "1500/1500 [==============================] - 1s 876us/step - loss: 0.1558 - accuracy: 0.9465\n",
      "Epoch 9/10\n",
      "1500/1500 [==============================] - 1s 885us/step - loss: 0.1480 - accuracy: 0.9491\n",
      "Epoch 10/10\n",
      "1500/1500 [==============================] - 1s 877us/step - loss: 0.1414 - accuracy: 0.9518\n"
     ]
    },
    {
     "data": {
      "text/plain": [
       "<keras.src.callbacks.History at 0x24799c18e90>"
      ]
     },
     "execution_count": 42,
     "metadata": {},
     "output_type": "execute_result"
    }
   ],
   "source": [
    "# 훈련\n",
    "model.fit(train_scaled, train_target, epochs=10)"
   ]
  },
  {
   "cell_type": "code",
   "execution_count": 44,
   "metadata": {},
   "outputs": [
    {
     "name": "stdout",
     "output_type": "stream",
     "text": [
      "375/375 [==============================] - 0s 680us/step - loss: 0.3693 - accuracy: 0.8869\n"
     ]
    },
    {
     "data": {
      "text/plain": [
       "[0.3693265914916992, 0.8869166374206543]"
      ]
     },
     "execution_count": 44,
     "metadata": {},
     "output_type": "execute_result"
    }
   ],
   "source": [
    "model.evaluate(val_scaled, val_target)\n",
    "# 검증 정확도 :88.7%"
   ]
  },
  {
   "cell_type": "code",
   "execution_count": null,
   "metadata": {},
   "outputs": [
    {
     "name": "stdout",
     "output_type": "stream",
     "text": [
      "313/313 [==============================] - 0s 728us/step\n"
     ]
    }
   ],
   "source": [
    "pred_result = model.predict(test_scaled)"
   ]
  },
  {
   "cell_type": "code",
   "execution_count": 48,
   "metadata": {},
   "outputs": [],
   "source": [
    "import matplotlib.pyplot as plt\n",
    "import seaborn as sns\n",
    "import numpy as np"
   ]
  },
  {
   "cell_type": "code",
   "execution_count": 49,
   "metadata": {},
   "outputs": [],
   "source": [
    "# 한글로 Matplotlib 사용시 항상 필요\n",
    "from matplotlib import rcParams, font_manager, rc\n",
    "\n",
    "font_path = 'C:/Windows/Fonts/malgun.ttf'\n",
    "font = font_manager.FontProperties(fname=font_path).get_name()\n",
    "rc('font', family=font)\n",
    "rcParams['axes.unicode_minus'] = False\n",
    "\n",
    "sns.set_style('darkgrid')\n",
    "sns.set_theme(font='Malgun Gothic', rc={'axes.unicode_minus': False})"
   ]
  },
  {
   "cell_type": "code",
   "execution_count": 61,
   "metadata": {},
   "outputs": [],
   "source": [
    "class_names = ['티셔츠', '바지', '스웨터', '드레스', '코트', '샌달', '셔츠', '스니커즈', '가방', '앵클부츠']"
   ]
  },
  {
   "cell_type": "code",
   "execution_count": 71,
   "metadata": {},
   "outputs": [],
   "source": [
    "# 테스트이미지와 예측결과 시각화\n",
    "def show_image(index):\n",
    "    plt.figure(figsize=(2,2))\n",
    "    plt.imshow(test_input[index].reshape(28, 28), cmap='gray_r')\n",
    "    true_label = class_names[test_target[index]]\n",
    "    pred_label = class_names[np.argmax(pred_result[index])]\n",
    "\n",
    "    # plt.title(f'실제: {true_label}, 예측: {pred_label}')\n",
    "    plt.title('', fontsize=13)\n",
    "    plt.text(0, -6, f'실제 : {true_label}', fontsize=12, color='blue')\n",
    "    plt.text(0, -3, f'예측 : {pred_label}', fontsize=12, color='red', fontweight='bold')\n",
    "\n",
    "    \n",
    "    plt.axis('off')\n",
    "    plt.show()"
   ]
  },
  {
   "cell_type": "code",
   "execution_count": 72,
   "metadata": {},
   "outputs": [
    {
     "data": {
      "image/png": "[encoded data removed]",
      "text/plain": [
       "<Figure size 200x200 with 1 Axes>"
      ]
     },
     "metadata": {},
     "output_type": "display_data"
    },
    {
     "data": {
      "image/png": "[encoded data removed]",
      "text/plain": [
       "<Figure size 200x200 with 1 Axes>"
      ]
     },
     "metadata": {},
     "output_type": "display_data"
    },
    {
     "data": {
      "image/png": "[encoded data removed]",
      "text/plain": [
       "<Figure size 200x200 with 1 Axes>"
      ]
     },
     "metadata": {},
     "output_type": "display_data"
    },
    {
     "data": {
      "image/png": "[encoded data removed]",
      "text/plain": [
       "<Figure size 200x200 with 1 Axes>"
      ]
     },
     "metadata": {},
     "output_type": "display_data"
    },
    {
     "data": {
      "image/png": "[encoded data removed]",
      "text/plain": [
       "<Figure size 200x200 with 1 Axes>"
      ]
     },
     "metadata": {},
     "output_type": "display_data"
    },
    {
     "data": {
      "image/png": "[encoded data removed]",
      "text/plain": [
       "<Figure size 200x200 with 1 Axes>"
      ]
     },
     "metadata": {},
     "output_type": "display_data"
    },
    {
     "data": {
      "image/png": "[encoded data removed]",
      "text/plain": [
       "<Figure size 200x200 with 1 Axes>"
      ]
     },
     "metadata": {},
     "output_type": "display_data"
    },
    {
     "data": {
      "image/png": "[encoded data removed]",
      "text/plain": [
       "<Figure size 200x200 with 1 Axes>"
      ]
     },
     "metadata": {},
     "output_type": "display_data"
    },
    {
     "data": {
      "image/png": "[encoded data removed]",
      "text/plain": [
       "<Figure size 200x200 with 1 Axes>"
      ]
     },
     "metadata": {},
     "output_type": "display_data"
    },
    {
     "data": {
      "image/png": "[encoded data removed]",
      "text/plain": [
       "<Figure size 200x200 with 1 Axes>"
      ]
     },
     "metadata": {},
     "output_type": "display_data"
    }
   ],
   "source": [
    "for i in range(10, 20):\n",
    "    show_image(i)"
   ]
  },
  {
   "cell_type": "markdown",
   "metadata": {},
   "source": [
    "#### 렐루 함수\n",
    "\n",
    "- 인공신경망 은닉층에 초기에는 Sigmoid 함수 사용\n",
    "\t- 단점 : 오른쪽, 왼쪽 끝으로 갈 수록 그래프가 누워있어서 올바른 출력을 못 만듦\n",
    "\n",
    "- 렐루함수(ReLU) : \n",
    "\n",
    "\t<img src=\"../image/ml0011.png\" width=\"600\">"
   ]
  },
  {
   "cell_type": "markdown",
   "metadata": {},
   "source": [
    "#### Flatten 객체\n",
    "- 이미지 2차원 배열을 1차원으로 변경할 때 np.reshape() 사용\n",
    "- Flatten 클래스가 위의 일을 대신해줌"
   ]
  },
  {
   "cell_type": "code",
   "execution_count": 73,
   "metadata": {},
   "outputs": [],
   "source": [
    "model2 = keras.Sequential([\n",
    "    keras.layers.Flatten(input_shape=(28,28), name='flatten'),\n",
    "    keras.layers.Dense(100, activation='relu', name='hidden'),\n",
    "    keras.layers.Dense(10, activation='softmax', name='output'),\n",
    "], name='Fashion_MNIST_RELU')"
   ]
  },
  {
   "cell_type": "code",
   "execution_count": 74,
   "metadata": {},
   "outputs": [
    {
     "name": "stdout",
     "output_type": "stream",
     "text": [
      "Model: \"Fashion_MNIST_RELU\"\n",
      "_________________________________________________________________\n",
      " Layer (type)                Output Shape              Param #   \n",
      "=================================================================\n",
      " flatten (Flatten)           (None, 784)               0         \n",
      "                                                                 \n",
      " hidden (Dense)              (None, 100)               78500     \n",
      "                                                                 \n",
      " output (Dense)              (None, 10)                1010      \n",
      "                                                                 \n",
      "=================================================================\n",
      "Total params: 79510 (310.59 KB)\n",
      "Trainable params: 79510 (310.59 KB)\n",
      "Non-trainable params: 0 (0.00 Byte)\n",
      "_________________________________________________________________\n"
     ]
    }
   ],
   "source": [
    "model2.summary()"
   ]
  },
  {
   "cell_type": "code",
   "execution_count": 75,
   "metadata": {},
   "outputs": [],
   "source": [
    "(train_input, train_target), (test_input, test_target) = keras.datasets.fashion_mnist.load_data()"
   ]
  },
  {
   "cell_type": "code",
   "execution_count": 77,
   "metadata": {},
   "outputs": [],
   "source": [
    "train_scaled = train_input / 255.0\n",
    "test_scaled = test_input / 255.0"
   ]
  },
  {
   "cell_type": "code",
   "execution_count": 78,
   "metadata": {},
   "outputs": [],
   "source": [
    "# 훈련세트, 검증세트 분리\n",
    "train_scaled, val_scaled, train_target, val_target = train_test_split(\n",
    "    train_scaled, train_target, test_size=0.2, random_state=42\n",
    ")"
   ]
  },
  {
   "cell_type": "code",
   "execution_count": 79,
   "metadata": {},
   "outputs": [],
   "source": [
    "# 모델 설정\n",
    "model2.compile(loss='sparse_categorical_crossentropy', metrics='accuracy')"
   ]
  },
  {
   "cell_type": "code",
   "execution_count": 80,
   "metadata": {},
   "outputs": [
    {
     "name": "stdout",
     "output_type": "stream",
     "text": [
      "Epoch 1/20\n",
      "1500/1500 [==============================] - 2s 933us/step - loss: 0.5323 - accuracy: 0.8124\n",
      "Epoch 2/20\n",
      "1500/1500 [==============================] - 1s 913us/step - loss: 0.3917 - accuracy: 0.8590\n",
      "Epoch 3/20\n",
      "1500/1500 [==============================] - 1s 973us/step - loss: 0.3534 - accuracy: 0.8715\n",
      "Epoch 4/20\n",
      "1500/1500 [==============================] - 1s 951us/step - loss: 0.3330 - accuracy: 0.8792\n",
      "Epoch 5/20\n",
      "1500/1500 [==============================] - 1s 923us/step - loss: 0.3155 - accuracy: 0.8865\n",
      "Epoch 6/20\n",
      "1500/1500 [==============================] - 1s 912us/step - loss: 0.3056 - accuracy: 0.8906\n",
      "Epoch 7/20\n",
      "1500/1500 [==============================] - 1s 963us/step - loss: 0.2950 - accuracy: 0.8945\n",
      "Epoch 8/20\n",
      "1500/1500 [==============================] - 1s 959us/step - loss: 0.2847 - accuracy: 0.8999\n",
      "Epoch 9/20\n",
      "1500/1500 [==============================] - 1s 969us/step - loss: 0.2791 - accuracy: 0.9009\n",
      "Epoch 10/20\n",
      "1500/1500 [==============================] - 1s 964us/step - loss: 0.2709 - accuracy: 0.9039\n",
      "Epoch 11/20\n",
      "1500/1500 [==============================] - 1s 915us/step - loss: 0.2644 - accuracy: 0.9066\n",
      "Epoch 12/20\n",
      "1500/1500 [==============================] - 1s 947us/step - loss: 0.2592 - accuracy: 0.9089\n",
      "Epoch 13/20\n",
      "1500/1500 [==============================] - 1s 944us/step - loss: 0.2548 - accuracy: 0.9112\n",
      "Epoch 14/20\n",
      "1500/1500 [==============================] - 1s 947us/step - loss: 0.2485 - accuracy: 0.9135\n",
      "Epoch 15/20\n",
      "1500/1500 [==============================] - 1s 934us/step - loss: 0.2492 - accuracy: 0.9127\n",
      "Epoch 16/20\n",
      "1500/1500 [==============================] - 1s 962us/step - loss: 0.2422 - accuracy: 0.9157\n",
      "Epoch 17/20\n",
      "1500/1500 [==============================] - 1s 937us/step - loss: 0.2387 - accuracy: 0.9173\n",
      "Epoch 18/20\n",
      "1500/1500 [==============================] - 1s 902us/step - loss: 0.2355 - accuracy: 0.9189\n",
      "Epoch 19/20\n",
      "1500/1500 [==============================] - 1s 903us/step - loss: 0.2284 - accuracy: 0.9211\n",
      "Epoch 20/20\n",
      "1500/1500 [==============================] - 1s 869us/step - loss: 0.2284 - accuracy: 0.9215\n"
     ]
    },
    {
     "data": {
      "text/plain": [
       "<keras.src.callbacks.History at 0x247c2890750>"
      ]
     },
     "execution_count": 80,
     "metadata": {},
     "output_type": "execute_result"
    }
   ],
   "source": [
    "# 모델 훈련\n",
    "model2.fit(train_scaled, train_target, epochs=20)"
   ]
  },
  {
   "cell_type": "code",
   "execution_count": 82,
   "metadata": {},
   "outputs": [
    {
     "name": "stdout",
     "output_type": "stream",
     "text": [
      "375/375 [==============================] - 0s 719us/step - loss: 0.5157 - accuracy: 0.8747\n"
     ]
    },
    {
     "data": {
      "text/plain": [
       "[0.5157062411308289, 0.874666690826416]"
      ]
     },
     "execution_count": 82,
     "metadata": {},
     "output_type": "execute_result"
    }
   ],
   "source": [
    "model2.evaluate(val_scaled, val_target)\n",
    "# ReLU 함수 사용시, Sigmod 함수 사용시 0.01% 개선"
   ]
  },
  {
   "cell_type": "markdown",
   "metadata": {},
   "source": [
    "#### 옵티마이저\n",
    "- 하이퍼파라미터값 최적화"
   ]
  },
  {
   "cell_type": "code",
   "execution_count": 83,
   "metadata": {},
   "outputs": [],
   "source": [
    "model3 = keras.Sequential([\n",
    "    keras.layers.Flatten(input_shape=(28,28), name='flatten'),\n",
    "    keras.layers.Dense(100, activation='relu', name='hidden'),\n",
    "    keras.layers.Dense(10, activation='softmax', name='output'),\n",
    "], name='Fashion_MNIST_RELU')"
   ]
  },
  {
   "cell_type": "code",
   "execution_count": null,
   "metadata": {},
   "outputs": [],
   "source": [
    "# 모델3 설정, 최적화는 adam 클래스만 사용\n",
    "model3.compile(loss='sparse_categorical_crossentropy', metrics='accuracy', optimizer = 'adam')"
   ]
  },
  {
   "cell_type": "code",
   "execution_count": 86,
   "metadata": {},
   "outputs": [
    {
     "name": "stdout",
     "output_type": "stream",
     "text": [
      "Epoch 1/20\n",
      "1500/1500 [==============================] - 1s 931us/step - loss: 0.1845 - accuracy: 0.9294\n",
      "Epoch 2/20\n",
      "1500/1500 [==============================] - 1s 931us/step - loss: 0.1806 - accuracy: 0.9330\n",
      "Epoch 3/20\n",
      "1500/1500 [==============================] - 1s 915us/step - loss: 0.1766 - accuracy: 0.9332\n",
      "Epoch 4/20\n",
      "1500/1500 [==============================] - 1s 910us/step - loss: 0.1716 - accuracy: 0.9353\n",
      "Epoch 5/20\n",
      "1500/1500 [==============================] - 1s 937us/step - loss: 0.1689 - accuracy: 0.9376\n",
      "Epoch 6/20\n",
      "1500/1500 [==============================] - 1s 925us/step - loss: 0.1639 - accuracy: 0.9387\n",
      "Epoch 7/20\n",
      "1500/1500 [==============================] - 1s 935us/step - loss: 0.1626 - accuracy: 0.9393\n",
      "Epoch 8/20\n",
      "1500/1500 [==============================] - 1s 905us/step - loss: 0.1566 - accuracy: 0.9416\n",
      "Epoch 9/20\n",
      "1500/1500 [==============================] - 1s 912us/step - loss: 0.1526 - accuracy: 0.9429\n",
      "Epoch 10/20\n",
      "1500/1500 [==============================] - 1s 911us/step - loss: 0.1507 - accuracy: 0.9439\n",
      "Epoch 11/20\n",
      "1500/1500 [==============================] - 1s 962us/step - loss: 0.1475 - accuracy: 0.9447\n",
      "Epoch 12/20\n",
      "1500/1500 [==============================] - 1s 901us/step - loss: 0.1442 - accuracy: 0.9465\n",
      "Epoch 13/20\n",
      "1500/1500 [==============================] - 1s 938us/step - loss: 0.1398 - accuracy: 0.9469\n",
      "Epoch 14/20\n",
      "1500/1500 [==============================] - 1s 910us/step - loss: 0.1386 - accuracy: 0.9484\n",
      "Epoch 15/20\n",
      "1500/1500 [==============================] - 1s 957us/step - loss: 0.1348 - accuracy: 0.9494\n",
      "Epoch 16/20\n",
      "1500/1500 [==============================] - 1s 923us/step - loss: 0.1329 - accuracy: 0.9505\n",
      "Epoch 17/20\n",
      "1500/1500 [==============================] - 1s 955us/step - loss: 0.1289 - accuracy: 0.9521\n",
      "Epoch 18/20\n",
      "1500/1500 [==============================] - 1s 928us/step - loss: 0.1256 - accuracy: 0.9531\n",
      "Epoch 19/20\n",
      "1500/1500 [==============================] - 1s 967us/step - loss: 0.1234 - accuracy: 0.9545\n",
      "Epoch 20/20\n",
      "1500/1500 [==============================] - 1s 902us/step - loss: 0.1210 - accuracy: 0.9547\n"
     ]
    },
    {
     "data": {
      "text/plain": [
       "<keras.src.callbacks.History at 0x2479d847fd0>"
      ]
     },
     "execution_count": 86,
     "metadata": {},
     "output_type": "execute_result"
    }
   ],
   "source": [
    "# 모델 훈련. 모델 훈련은 정보를 저장하기 때문에 다시 수행하면 이전 정보를 담고 시작\n",
    "model3.fit(train_scaled, train_target, epochs=20)"
   ]
  },
  {
   "cell_type": "markdown",
   "metadata": {},
   "source": [
    "- optimizer 사용시 0.01정도 개선"
   ]
  },
  {
   "cell_type": "code",
   "execution_count": null,
   "metadata": {},
   "outputs": [
    {
     "name": "stdout",
     "output_type": "stream",
     "text": [
      "375/375 [==============================] - 0s 709us/step - loss: 0.4268 - accuracy: 0.8839\n"
     ]
    },
    {
     "data": {
      "text/plain": [
       "[0.42683812975883484, 0.8839166760444641]"
      ]
     },
     "execution_count": 87,
     "metadata": {},
     "output_type": "execute_result"
    }
   ],
   "source": [
    "model3.evaluate(val_scaled, val_target)\n",
    "# 훈련 95%, 검증 88%"
   ]
  },
  {
   "cell_type": "markdown",
   "metadata": {},
   "source": [
    "#### 드롭아웃\n",
    "- 훈련과정 밀집층에 일부 뉴런을 꺼버림. "
   ]
  },
  {
   "cell_type": "code",
   "execution_count": 89,
   "metadata": {},
   "outputs": [],
   "source": [
    "model4 = keras.Sequential([\n",
    "    keras.layers.Flatten(input_shape=(28,28), name='flatten'),\n",
    "    keras.layers.Dense(100, activation='relu', name='hidden'),\n",
    "    keras.layers.Dropout(0.3, name=\"dropout\"),\n",
    "    keras.layers.Dense(10, activation='softmax', name='output'),\n",
    "], name='Fashion_MNIST_RELU')"
   ]
  },
  {
   "cell_type": "code",
   "execution_count": 90,
   "metadata": {},
   "outputs": [
    {
     "name": "stdout",
     "output_type": "stream",
     "text": [
      "Model: \"Fashion_MNIST_RELU\"\n",
      "_________________________________________________________________\n",
      " Layer (type)                Output Shape              Param #   \n",
      "=================================================================\n",
      " flatten (Flatten)           (None, 784)               0         \n",
      "                                                                 \n",
      " hidden (Dense)              (None, 100)               78500     \n",
      "                                                                 \n",
      " dropout (Dropout)           (None, 100)               0         \n",
      "                                                                 \n",
      " output (Dense)              (None, 10)                1010      \n",
      "                                                                 \n",
      "=================================================================\n",
      "Total params: 79510 (310.59 KB)\n",
      "Trainable params: 79510 (310.59 KB)\n",
      "Non-trainable params: 0 (0.00 Byte)\n",
      "_________________________________________________________________\n"
     ]
    }
   ],
   "source": [
    "model4.summary()"
   ]
  },
  {
   "cell_type": "code",
   "execution_count": 91,
   "metadata": {},
   "outputs": [],
   "source": [
    "model4.compile(loss='sparse_categorical_crossentropy', metrics='accuracy', optimizer = 'adam')"
   ]
  },
  {
   "cell_type": "code",
   "execution_count": 92,
   "metadata": {},
   "outputs": [
    {
     "name": "stdout",
     "output_type": "stream",
     "text": [
      "Epoch 1/20\n",
      "1500/1500 [==============================] - 2s 1ms/step - loss: 0.5928 - accuracy: 0.7924\n",
      "Epoch 2/20\n",
      "1500/1500 [==============================] - 2s 1ms/step - loss: 0.4402 - accuracy: 0.8411\n",
      "Epoch 3/20\n",
      "1500/1500 [==============================] - 1s 957us/step - loss: 0.4010 - accuracy: 0.8539\n",
      "Epoch 4/20\n",
      "1500/1500 [==============================] - 1s 956us/step - loss: 0.3813 - accuracy: 0.8605\n",
      "Epoch 5/20\n",
      "1500/1500 [==============================] - 1s 977us/step - loss: 0.3666 - accuracy: 0.8668\n",
      "Epoch 6/20\n",
      "1500/1500 [==============================] - 2s 1ms/step - loss: 0.3514 - accuracy: 0.8706\n",
      "Epoch 7/20\n",
      "1500/1500 [==============================] - 2s 1000us/step - loss: 0.3438 - accuracy: 0.8729\n",
      "Epoch 8/20\n",
      "1500/1500 [==============================] - 1s 948us/step - loss: 0.3348 - accuracy: 0.8763\n",
      "Epoch 9/20\n",
      "1500/1500 [==============================] - 2s 1ms/step - loss: 0.3256 - accuracy: 0.8804\n",
      "Epoch 10/20\n",
      "1500/1500 [==============================] - 2s 1ms/step - loss: 0.3193 - accuracy: 0.8809\n",
      "Epoch 11/20\n",
      "1500/1500 [==============================] - 2s 1ms/step - loss: 0.3132 - accuracy: 0.8846\n",
      "Epoch 12/20\n",
      "1500/1500 [==============================] - 2s 1ms/step - loss: 0.3060 - accuracy: 0.8863\n",
      "Epoch 13/20\n",
      "1500/1500 [==============================] - 2s 1ms/step - loss: 0.3014 - accuracy: 0.8884\n",
      "Epoch 14/20\n",
      "1500/1500 [==============================] - 2s 1ms/step - loss: 0.2983 - accuracy: 0.8870\n",
      "Epoch 15/20\n",
      "1500/1500 [==============================] - 2s 1ms/step - loss: 0.2913 - accuracy: 0.8904\n",
      "Epoch 16/20\n",
      "1500/1500 [==============================] - 2s 1ms/step - loss: 0.2874 - accuracy: 0.8917\n",
      "Epoch 17/20\n",
      "1500/1500 [==============================] - 1s 990us/step - loss: 0.2833 - accuracy: 0.8911\n",
      "Epoch 18/20\n",
      "1500/1500 [==============================] - 2s 1ms/step - loss: 0.2817 - accuracy: 0.8945\n",
      "Epoch 19/20\n",
      "1500/1500 [==============================] - 1s 988us/step - loss: 0.2786 - accuracy: 0.8940\n",
      "Epoch 20/20\n",
      "1500/1500 [==============================] - 1s 962us/step - loss: 0.2721 - accuracy: 0.8964\n"
     ]
    },
    {
     "data": {
      "text/plain": [
       "<keras.src.callbacks.History at 0x2479d775bd0>"
      ]
     },
     "execution_count": 92,
     "metadata": {},
     "output_type": "execute_result"
    }
   ],
   "source": [
    "# 모델 훈련. 모델 훈련은 정보를 저장하기 때문에 다시 수행하면 이전 정보를 담고 시작\n",
    "model4.fit(train_scaled, train_target, epochs=20)"
   ]
  },
  {
   "cell_type": "code",
   "execution_count": 94,
   "metadata": {},
   "outputs": [
    {
     "name": "stdout",
     "output_type": "stream",
     "text": [
      "375/375 [==============================] - 0s 723us/step - loss: 0.3151 - accuracy: 0.8885\n"
     ]
    },
    {
     "data": {
      "text/plain": [
       "[0.31510400772094727, 0.8884999752044678]"
      ]
     },
     "execution_count": 94,
     "metadata": {},
     "output_type": "execute_result"
    }
   ],
   "source": [
    "model4.evaluate(val_scaled, val_target)\n",
    "# 훈련 89%, 검증 88%"
   ]
  },
  {
   "cell_type": "markdown",
   "metadata": {},
   "source": [
    "#### 결론\n",
    "- `심층 신경망` : 2개 이상의 밀집층을 포함한 신경망 모델. 다층 인공신경망\n",
    "- `렐루함수` : 시그모이드 함수의 단점을 보완한 활성화 함수\n",
    "- `옵티마이저` : 신경망의 가중치(기울기)와 절편을 학습하기 위한 알고리즘 또는 방법. `Adam`, SGD(확률적 경사하강법), PMSprop..  "
   ]
  }
 ],
 "metadata": {
  "kernelspec": {
   "display_name": "mlvenv",
   "language": "python",
   "name": "python3"
  },
  "language_info": {
   "codemirror_mode": {
    "name": "ipython",
    "version": 3
   },
   "file_extension": ".py",
   "mimetype": "text/x-python",
   "name": "python",
   "nbconvert_exporter": "python",
   "pygments_lexer": "ipython3",
   "version": "3.11.9"
  }
 },
 "nbformat": 4,
 "nbformat_minor": 2
}
